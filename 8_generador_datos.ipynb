{
 "cells": [
  {
   "cell_type": "markdown",
   "id": "a4f71af2",
   "metadata": {},
   "source": [
    "# Generador de datos\n",
    "\n",
    "En este notebook se muestra la generación de datos aleatorios, pseudoaleatorios y \n",
    "de calendario. Para explorar más sobre la generación de fechas, explorarar su documentación.\n",
    "https://docs.python.org/es/3/library/datetime.html\n",
    "    "
   ]
  },
  {
   "cell_type": "code",
   "execution_count": 2,
   "id": "0b045ce6",
   "metadata": {},
   "outputs": [],
   "source": [
    "import pandas as pd\n",
    "import numpy as np\n",
    "import random\n",
    "import datetime\n",
    "import matplotlib.pyplot as plt   \n",
    "import seaborn as sns"
   ]
  },
  {
   "cell_type": "markdown",
   "id": "69b0711a",
   "metadata": {},
   "source": [
    "Parámetros iniciales"
   ]
  },
  {
   "cell_type": "code",
   "execution_count": 12,
   "id": "691a1e29",
   "metadata": {},
   "outputs": [],
   "source": [
    "N = 100\n",
    "valm, ds = 10, 1\n",
    "fecha = []\n",
    "list1 = []\n",
    "list2 = []\n",
    "items = [\"ref_A\", \"ref_B\", \"ref_C\"]\n",
    "start_date = datetime.date(2022, 1, 1)\n",
    "end_date = datetime.date(2022, 12, 31)\n",
    "dt = end_date - start_date\n",
    "days_between_dates = dt.days"
   ]
  },
  {
   "cell_type": "markdown",
   "id": "926b31ca",
   "metadata": {},
   "source": [
    "## 1. Generación de datos y fechas pseudo-aleatorios"
   ]
  },
  {
   "cell_type": "code",
   "execution_count": 13,
   "id": "19593c08",
   "metadata": {},
   "outputs": [],
   "source": [
    "for i in range(N):\n",
    "    random_number_of_days = random.randrange(days_between_dates)\n",
    "    random_date = start_date + datetime.timedelta(days=random_number_of_days)\n",
    "    fecha.append(random_date)\n",
    "    list1.append(random.gauss(valm, ds))\n",
    "    list2.append(random.choice(items))"
   ]
  },
  {
   "cell_type": "code",
   "execution_count": 14,
   "id": "3a33e59c",
   "metadata": {
    "scrolled": true
   },
   "outputs": [],
   "source": [
    "datos = pd.DataFrame({\"Datos\":list1, \"Referencia\":list2, \"Fecha\":fecha})\n",
    "datos.to_excel('datos-simples.xlsx', sheet_name='fecha')"
   ]
  },
  {
   "cell_type": "code",
   "execution_count": 15,
   "id": "a808580d",
   "metadata": {},
   "outputs": [
    {
     "data": {
      "image/png": "[encoded data removed]",
      "text/plain": [
       "<Figure size 432x288 with 1 Axes>"
      ]
     },
     "metadata": {
      "needs_background": "light"
     },
     "output_type": "display_data"
    }
   ],
   "source": [
    "sns.violinplot(data=datos, x=\"Datos\", y=\"Referencia\")\n",
    "plt.show()"
   ]
  },
  {
   "cell_type": "markdown",
   "id": "3bdd79f7",
   "metadata": {},
   "source": [
    "## 2. Generación de datos igualmente espaciados"
   ]
  },
  {
   "cell_type": "code",
   "execution_count": 26,
   "id": "b0076bd9",
   "metadata": {},
   "outputs": [],
   "source": [
    "# inicializamos datos\n",
    "test_date = datetime.datetime.strptime(\"01-7-2022\", \"%d-%m-%Y\")\n",
    " \n",
    "# Definimos el periodo\n",
    "T= 10\n",
    "\n",
    "# Generamos T datos\n",
    "date_generated = pd.date_range(test_date, periods=T)\n",
    "\n",
    "data2 = pd.DataFrame({\"Fecha\":date_generated})\n",
    "data2.to_excel('data2.xlsx', sheet_name='fecha')"
   ]
  },
  {
   "cell_type": "code",
   "execution_count": 27,
   "id": "d53c1df1",
   "metadata": {},
   "outputs": [
    {
     "data": {
      "text/html": [
       "<div>\n",
       "<style scoped>\n",
       "    .dataframe tbody tr th:only-of-type {\n",
       "        vertical-align: middle;\n",
       "    }\n",
       "\n",
       "    .dataframe tbody tr th {\n",
       "        vertical-align: top;\n",
       "    }\n",
       "\n",
       "    .dataframe thead th {\n",
       "        text-align: right;\n",
       "    }\n",
       "</style>\n",
       "<table border=\"1\" class=\"dataframe\">\n",
       "  <thead>\n",
       "    <tr style=\"text-align: right;\">\n",
       "      <th></th>\n",
       "      <th>Fecha</th>\n",
       "      <th>Valor</th>\n",
       "    </tr>\n",
       "  </thead>\n",
       "  <tbody>\n",
       "    <tr>\n",
       "      <th>0</th>\n",
       "      <td>2022-07-01</td>\n",
       "      <td>9.523497</td>\n",
       "    </tr>\n",
       "    <tr>\n",
       "      <th>1</th>\n",
       "      <td>2022-07-02</td>\n",
       "      <td>9.859961</td>\n",
       "    </tr>\n",
       "    <tr>\n",
       "      <th>2</th>\n",
       "      <td>2022-07-03</td>\n",
       "      <td>10.027556</td>\n",
       "    </tr>\n",
       "    <tr>\n",
       "      <th>3</th>\n",
       "      <td>2022-07-04</td>\n",
       "      <td>10.218455</td>\n",
       "    </tr>\n",
       "    <tr>\n",
       "      <th>4</th>\n",
       "      <td>2022-07-05</td>\n",
       "      <td>10.544397</td>\n",
       "    </tr>\n",
       "    <tr>\n",
       "      <th>5</th>\n",
       "      <td>2022-07-06</td>\n",
       "      <td>10.264894</td>\n",
       "    </tr>\n",
       "    <tr>\n",
       "      <th>6</th>\n",
       "      <td>2022-07-07</td>\n",
       "      <td>8.992574</td>\n",
       "    </tr>\n",
       "    <tr>\n",
       "      <th>7</th>\n",
       "      <td>2022-07-08</td>\n",
       "      <td>9.143789</td>\n",
       "    </tr>\n",
       "    <tr>\n",
       "      <th>8</th>\n",
       "      <td>2022-07-09</td>\n",
       "      <td>10.495350</td>\n",
       "    </tr>\n",
       "    <tr>\n",
       "      <th>9</th>\n",
       "      <td>2022-07-10</td>\n",
       "      <td>9.233436</td>\n",
       "    </tr>\n",
       "  </tbody>\n",
       "</table>\n",
       "</div>"
      ],
      "text/plain": [
       "       Fecha      Valor\n",
       "0 2022-07-01   9.523497\n",
       "1 2022-07-02   9.859961\n",
       "2 2022-07-03  10.027556\n",
       "3 2022-07-04  10.218455\n",
       "4 2022-07-05  10.544397\n",
       "5 2022-07-06  10.264894\n",
       "6 2022-07-07   8.992574\n",
       "7 2022-07-08   9.143789\n",
       "8 2022-07-09  10.495350\n",
       "9 2022-07-10   9.233436"
      ]
     },
     "execution_count": 27,
     "metadata": {},
     "output_type": "execute_result"
    }
   ],
   "source": [
    "valores = []\n",
    "for i in range(T):\n",
    "    valores.append(random.gauss(10, 1))\n",
    "data2[\"Valor\"] = valores\n",
    "data2"
   ]
  },
  {
   "cell_type": "code",
   "execution_count": 28,
   "id": "845c0944",
   "metadata": {
    "scrolled": true
   },
   "outputs": [
    {
     "data": {
      "image/png": "[encoded data removed]",
      "text/plain": [
       "<Figure size 972x216 with 1 Axes>"
      ]
     },
     "metadata": {},
     "output_type": "display_data"
    }
   ],
   "source": [
    "sns.set_theme(style=\"whitegrid\", context=\"talk\")\n",
    "sns.relplot(data=data2,\n",
    "           x=\"Fecha\",\n",
    "           y=\"Valor\", \n",
    "            kind =\"line\", \n",
    "            height=3, \n",
    "            aspect=4.5)\n",
    "plt.show()"
   ]
  },
  {
   "cell_type": "markdown",
   "id": "0be09e86",
   "metadata": {},
   "source": [
    "## 3. Generador de datos de dos variables correlacionadas"
   ]
  },
  {
   "cell_type": "markdown",
   "id": "5b3a7cd8",
   "metadata": {},
   "source": [
    "Supongamos una correlación lineal de la forma $y=mx+b$.\n"
   ]
  },
  {
   "cell_type": "code",
   "execution_count": 43,
   "id": "2f61920a",
   "metadata": {},
   "outputs": [],
   "source": [
    "N = 100\n",
    "m, b = 1.5, 5\n",
    "f = lambda x: m*x+b\n",
    "x = []\n",
    "y = []\n",
    "for i in range(N):\n",
    "    r = random.gauss(500, 100)\n",
    "    x.append(round(r, 2))\n",
    "    y.append(round(random.gauss(f(r), 80), 2))\n"
   ]
  },
  {
   "cell_type": "code",
   "execution_count": 44,
   "id": "d9cd97f1",
   "metadata": {},
   "outputs": [
    {
     "data": {
      "image/png": "[encoded data removed]",
      "text/plain": [
       "<Figure size 432x288 with 1 Axes>"
      ]
     },
     "metadata": {
      "needs_background": "light"
     },
     "output_type": "display_data"
    }
   ],
   "source": [
    "plt.scatter(x, y)\n",
    "plt.show()"
   ]
  },
  {
   "cell_type": "code",
   "execution_count": 45,
   "id": "4bd452d3",
   "metadata": {},
   "outputs": [
    {
     "data": {
      "text/html": [
       "<div>\n",
       "<style scoped>\n",
       "    .dataframe tbody tr th:only-of-type {\n",
       "        vertical-align: middle;\n",
       "    }\n",
       "\n",
       "    .dataframe tbody tr th {\n",
       "        vertical-align: top;\n",
       "    }\n",
       "\n",
       "    .dataframe thead th {\n",
       "        text-align: right;\n",
       "    }\n",
       "</style>\n",
       "<table border=\"1\" class=\"dataframe\">\n",
       "  <thead>\n",
       "    <tr style=\"text-align: right;\">\n",
       "      <th></th>\n",
       "      <th>Valores_x</th>\n",
       "      <th>Valores_y</th>\n",
       "    </tr>\n",
       "  </thead>\n",
       "  <tbody>\n",
       "    <tr>\n",
       "      <th>0</th>\n",
       "      <td>456.83</td>\n",
       "      <td>736.30</td>\n",
       "    </tr>\n",
       "    <tr>\n",
       "      <th>1</th>\n",
       "      <td>550.94</td>\n",
       "      <td>786.90</td>\n",
       "    </tr>\n",
       "    <tr>\n",
       "      <th>2</th>\n",
       "      <td>509.33</td>\n",
       "      <td>707.36</td>\n",
       "    </tr>\n",
       "    <tr>\n",
       "      <th>3</th>\n",
       "      <td>298.26</td>\n",
       "      <td>327.72</td>\n",
       "    </tr>\n",
       "    <tr>\n",
       "      <th>4</th>\n",
       "      <td>644.72</td>\n",
       "      <td>813.15</td>\n",
       "    </tr>\n",
       "    <tr>\n",
       "      <th>...</th>\n",
       "      <td>...</td>\n",
       "      <td>...</td>\n",
       "    </tr>\n",
       "    <tr>\n",
       "      <th>95</th>\n",
       "      <td>670.37</td>\n",
       "      <td>925.63</td>\n",
       "    </tr>\n",
       "    <tr>\n",
       "      <th>96</th>\n",
       "      <td>505.83</td>\n",
       "      <td>795.77</td>\n",
       "    </tr>\n",
       "    <tr>\n",
       "      <th>97</th>\n",
       "      <td>579.72</td>\n",
       "      <td>774.33</td>\n",
       "    </tr>\n",
       "    <tr>\n",
       "      <th>98</th>\n",
       "      <td>344.19</td>\n",
       "      <td>500.13</td>\n",
       "    </tr>\n",
       "    <tr>\n",
       "      <th>99</th>\n",
       "      <td>513.45</td>\n",
       "      <td>721.53</td>\n",
       "    </tr>\n",
       "  </tbody>\n",
       "</table>\n",
       "<p>100 rows × 2 columns</p>\n",
       "</div>"
      ],
      "text/plain": [
       "    Valores_x  Valores_y\n",
       "0      456.83     736.30\n",
       "1      550.94     786.90\n",
       "2      509.33     707.36\n",
       "3      298.26     327.72\n",
       "4      644.72     813.15\n",
       "..        ...        ...\n",
       "95     670.37     925.63\n",
       "96     505.83     795.77\n",
       "97     579.72     774.33\n",
       "98     344.19     500.13\n",
       "99     513.45     721.53\n",
       "\n",
       "[100 rows x 2 columns]"
      ]
     },
     "execution_count": 45,
     "metadata": {},
     "output_type": "execute_result"
    }
   ],
   "source": [
    "datos3 = pd.DataFrame({\"Valores_x\":x, \"Valores_y\":y})\n",
    "datos3.to_excel('datos_3.xlsx', sheet_name='Datos_3')\n",
    "datos3"
   ]
  },
  {
   "cell_type": "code",
   "execution_count": null,
   "id": "5db85acb",
   "metadata": {},
   "outputs": [],
   "source": []
  }
 ],
 "metadata": {
  "kernelspec": {
   "display_name": "Python 3 (ipykernel)",
   "language": "python",
   "name": "python3"
  },
  "language_info": {
   "codemirror_mode": {
    "name": "ipython",
    "version": 3
   },
   "file_extension": ".py",
   "mimetype": "text/x-python",
   "name": "python",
   "nbconvert_exporter": "python",
   "pygments_lexer": "ipython3",
   "version": "3.9.12"
  }
 },
 "nbformat": 4,
 "nbformat_minor": 5
}
