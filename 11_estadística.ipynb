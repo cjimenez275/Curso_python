{
 "cells": [
  {
   "cell_type": "markdown",
   "id": "da6b91c0",
   "metadata": {},
   "source": [
    "# Estadística"
   ]
  },
  {
   "cell_type": "markdown",
   "id": "fdc9defa",
   "metadata": {},
   "source": [
    "## Generación de datos"
   ]
  },
  {
   "cell_type": "code",
   "execution_count": 3,
   "id": "2ce01e64",
   "metadata": {},
   "outputs": [],
   "source": [
    "import matplotlib.pyplot as plt\n",
    "import seaborn as sns\n",
    "import numpy as np\n",
    "import random\n",
    "import pandas as pd"
   ]
  },
  {
   "cell_type": "code",
   "execution_count": 67,
   "id": "f65505db",
   "metadata": {},
   "outputs": [],
   "source": [
    "altura = []\n",
    "peso = []\n",
    "longitud_colmillo = []\n",
    "for i in range(100):\n",
    "    b = random.randint(5, 20)\n",
    "    a = random.randint(-10, 30)\n",
    "    altura.append(b)\n",
    "    y = 0.1*a + 1.2*b \n",
    "    peso.append(y)\n",
    "    longitud_colmillo.append(round(random.gauss(14, 4),1))"
   ]
  },
  {
   "cell_type": "code",
   "execution_count": 68,
   "id": "0bbc722d",
   "metadata": {},
   "outputs": [
    {
     "data": {
      "text/html": [
       "<div>\n",
       "<style scoped>\n",
       "    .dataframe tbody tr th:only-of-type {\n",
       "        vertical-align: middle;\n",
       "    }\n",
       "\n",
       "    .dataframe tbody tr th {\n",
       "        vertical-align: top;\n",
       "    }\n",
       "\n",
       "    .dataframe thead th {\n",
       "        text-align: right;\n",
       "    }\n",
       "</style>\n",
       "<table border=\"1\" class=\"dataframe\">\n",
       "  <thead>\n",
       "    <tr style=\"text-align: right;\">\n",
       "      <th></th>\n",
       "      <th>altura_cm</th>\n",
       "      <th>peso_kg</th>\n",
       "      <th>longitud_colmillo_mm</th>\n",
       "    </tr>\n",
       "  </thead>\n",
       "  <tbody>\n",
       "    <tr>\n",
       "      <th>0</th>\n",
       "      <td>17</td>\n",
       "      <td>21.6</td>\n",
       "      <td>14.4</td>\n",
       "    </tr>\n",
       "    <tr>\n",
       "      <th>1</th>\n",
       "      <td>14</td>\n",
       "      <td>17.0</td>\n",
       "      <td>10.7</td>\n",
       "    </tr>\n",
       "    <tr>\n",
       "      <th>2</th>\n",
       "      <td>15</td>\n",
       "      <td>18.5</td>\n",
       "      <td>15.9</td>\n",
       "    </tr>\n",
       "    <tr>\n",
       "      <th>3</th>\n",
       "      <td>17</td>\n",
       "      <td>22.6</td>\n",
       "      <td>8.3</td>\n",
       "    </tr>\n",
       "    <tr>\n",
       "      <th>4</th>\n",
       "      <td>11</td>\n",
       "      <td>14.5</td>\n",
       "      <td>10.8</td>\n",
       "    </tr>\n",
       "  </tbody>\n",
       "</table>\n",
       "</div>"
      ],
      "text/plain": [
       "   altura_cm  peso_kg  longitud_colmillo_mm\n",
       "0         17     21.6                  14.4\n",
       "1         14     17.0                  10.7\n",
       "2         15     18.5                  15.9\n",
       "3         17     22.6                   8.3\n",
       "4         11     14.5                  10.8"
      ]
     },
     "execution_count": 68,
     "metadata": {},
     "output_type": "execute_result"
    }
   ],
   "source": [
    "datos = pd.DataFrame({\"altura_cm\":altura, \"peso_kg\":peso, \"longitud_colmillo_mm\":longitud_colmillo})\n",
    "datos.head()"
   ]
  },
  {
   "cell_type": "markdown",
   "id": "63f15f3c",
   "metadata": {},
   "source": [
    "## Una variable"
   ]
  },
  {
   "cell_type": "code",
   "execution_count": 71,
   "id": "ebf15624",
   "metadata": {},
   "outputs": [
    {
     "data": {
      "text/html": [
       "<div>\n",
       "<style scoped>\n",
       "    .dataframe tbody tr th:only-of-type {\n",
       "        vertical-align: middle;\n",
       "    }\n",
       "\n",
       "    .dataframe tbody tr th {\n",
       "        vertical-align: top;\n",
       "    }\n",
       "\n",
       "    .dataframe thead th {\n",
       "        text-align: right;\n",
       "    }\n",
       "</style>\n",
       "<table border=\"1\" class=\"dataframe\">\n",
       "  <thead>\n",
       "    <tr style=\"text-align: right;\">\n",
       "      <th></th>\n",
       "      <th>altura_cm</th>\n",
       "      <th>peso_kg</th>\n",
       "      <th>longitud_colmillo_mm</th>\n",
       "    </tr>\n",
       "  </thead>\n",
       "  <tbody>\n",
       "    <tr>\n",
       "      <th>count</th>\n",
       "      <td>100.000000</td>\n",
       "      <td>100.000000</td>\n",
       "      <td>100.000000</td>\n",
       "    </tr>\n",
       "    <tr>\n",
       "      <th>mean</th>\n",
       "      <td>12.180000</td>\n",
       "      <td>15.559000</td>\n",
       "      <td>13.981000</td>\n",
       "    </tr>\n",
       "    <tr>\n",
       "      <th>std</th>\n",
       "      <td>4.522402</td>\n",
       "      <td>5.567929</td>\n",
       "      <td>3.547818</td>\n",
       "    </tr>\n",
       "    <tr>\n",
       "      <th>min</th>\n",
       "      <td>5.000000</td>\n",
       "      <td>5.000000</td>\n",
       "      <td>4.800000</td>\n",
       "    </tr>\n",
       "    <tr>\n",
       "      <th>25%</th>\n",
       "      <td>8.000000</td>\n",
       "      <td>10.800000</td>\n",
       "      <td>11.375000</td>\n",
       "    </tr>\n",
       "    <tr>\n",
       "      <th>50%</th>\n",
       "      <td>12.000000</td>\n",
       "      <td>15.150000</td>\n",
       "      <td>13.500000</td>\n",
       "    </tr>\n",
       "    <tr>\n",
       "      <th>75%</th>\n",
       "      <td>16.000000</td>\n",
       "      <td>19.875000</td>\n",
       "      <td>16.600000</td>\n",
       "    </tr>\n",
       "    <tr>\n",
       "      <th>max</th>\n",
       "      <td>20.000000</td>\n",
       "      <td>25.800000</td>\n",
       "      <td>23.400000</td>\n",
       "    </tr>\n",
       "  </tbody>\n",
       "</table>\n",
       "</div>"
      ],
      "text/plain": [
       "        altura_cm     peso_kg  longitud_colmillo_mm\n",
       "count  100.000000  100.000000            100.000000\n",
       "mean    12.180000   15.559000             13.981000\n",
       "std      4.522402    5.567929              3.547818\n",
       "min      5.000000    5.000000              4.800000\n",
       "25%      8.000000   10.800000             11.375000\n",
       "50%     12.000000   15.150000             13.500000\n",
       "75%     16.000000   19.875000             16.600000\n",
       "max     20.000000   25.800000             23.400000"
      ]
     },
     "execution_count": 71,
     "metadata": {},
     "output_type": "execute_result"
    }
   ],
   "source": [
    "datos.describe()"
   ]
  },
  {
   "cell_type": "markdown",
   "id": "bc5cb40c",
   "metadata": {},
   "source": [
    "Para análisis de una sola variable se utiliza la población cuando se trabaja con todos los datos\n",
    "de una población, y se usa la muestra cuando se trabaja con un subconjunto aleatorio de datos\n",
    "de la población. Se define la media y la desviación estandar como:\n",
    "\n",
    "<img src=\"unavariable.png\">"
   ]
  },
  {
   "cell_type": "code",
   "execution_count": 72,
   "id": "1a6700f2",
   "metadata": {},
   "outputs": [
    {
     "data": {
      "image/png": "[encoded data removed]",
      "text/plain": [
       "<Figure size 432x288 with 1 Axes>"
      ]
     },
     "metadata": {
      "needs_background": "light"
     },
     "output_type": "display_data"
    }
   ],
   "source": [
    "sns.kdeplot(data=datos, x=\"longitud_colmillo_mm\", fill=True, label=\"colmillo\")\n",
    "sns.kdeplot(data=datos, x=\"altura_cm\", fill=True, label=\"altura\")\n",
    "sns.kdeplot(data=datos, x=\"peso_kg\", fill=True, label=\"peso\")\n",
    "plt.legend()\n",
    "plt.show()"
   ]
  },
  {
   "cell_type": "code",
   "execution_count": null,
   "id": "a9d08e47",
   "metadata": {},
   "outputs": [],
   "source": [
    "Vemos que los datos colmillo estan mas relacionados"
   ]
  },
  {
   "cell_type": "markdown",
   "id": "e8796879",
   "metadata": {},
   "source": [
    "## Dos variables"
   ]
  },
  {
   "cell_type": "markdown",
   "id": "27e32ae0",
   "metadata": {},
   "source": [
    "Para el caso de dos variables se define la covarianza y la correlación como:\n",
    "<img src=\"dosvariables.png\">"
   ]
  },
  {
   "cell_type": "markdown",
   "id": "992ab907",
   "metadata": {},
   "source": [
    "La covarianza se calcula fácilmente como:"
   ]
  },
  {
   "cell_type": "code",
   "execution_count": 73,
   "id": "d8b9421a",
   "metadata": {
    "scrolled": true
   },
   "outputs": [
    {
     "data": {
      "text/html": [
       "<div>\n",
       "<style scoped>\n",
       "    .dataframe tbody tr th:only-of-type {\n",
       "        vertical-align: middle;\n",
       "    }\n",
       "\n",
       "    .dataframe tbody tr th {\n",
       "        vertical-align: top;\n",
       "    }\n",
       "\n",
       "    .dataframe thead th {\n",
       "        text-align: right;\n",
       "    }\n",
       "</style>\n",
       "<table border=\"1\" class=\"dataframe\">\n",
       "  <thead>\n",
       "    <tr style=\"text-align: right;\">\n",
       "      <th></th>\n",
       "      <th>altura_cm</th>\n",
       "      <th>peso_kg</th>\n",
       "      <th>longitud_colmillo_mm</th>\n",
       "    </tr>\n",
       "  </thead>\n",
       "  <tbody>\n",
       "    <tr>\n",
       "      <th>altura_cm</th>\n",
       "      <td>20.452121</td>\n",
       "      <td>24.650889</td>\n",
       "      <td>0.273152</td>\n",
       "    </tr>\n",
       "    <tr>\n",
       "      <th>peso_kg</th>\n",
       "      <td>24.650889</td>\n",
       "      <td>31.001837</td>\n",
       "      <td>0.681637</td>\n",
       "    </tr>\n",
       "    <tr>\n",
       "      <th>longitud_colmillo_mm</th>\n",
       "      <td>0.273152</td>\n",
       "      <td>0.681637</td>\n",
       "      <td>12.587009</td>\n",
       "    </tr>\n",
       "  </tbody>\n",
       "</table>\n",
       "</div>"
      ],
      "text/plain": [
       "                      altura_cm    peso_kg  longitud_colmillo_mm\n",
       "altura_cm             20.452121  24.650889              0.273152\n",
       "peso_kg               24.650889  31.001837              0.681637\n",
       "longitud_colmillo_mm   0.273152   0.681637             12.587009"
      ]
     },
     "execution_count": 73,
     "metadata": {},
     "output_type": "execute_result"
    }
   ],
   "source": [
    "datos.cov()"
   ]
  },
  {
   "cell_type": "markdown",
   "id": "1da668a5",
   "metadata": {},
   "source": [
    "Note que la raiz cuadrada de la covarianza de una variable consigo misma es igual \n",
    "a la desviación estandar de la variable, es decir la covarianza de una variable consigo misma \n",
    "es la varianza. Una covarianza alta entre dos variables denota una relación entre ellas."
   ]
  },
  {
   "cell_type": "code",
   "execution_count": 74,
   "id": "e6c8cf21",
   "metadata": {},
   "outputs": [
    {
     "data": {
      "image/png": "[encoded data removed]",
      "text/plain": [
       "<Figure size 360x360 with 1 Axes>"
      ]
     },
     "metadata": {
      "needs_background": "light"
     },
     "output_type": "display_data"
    }
   ],
   "source": [
    "sns.relplot(data=datos, x=\"peso_kg\", y=\"altura_cm\")\n",
    "plt.show()"
   ]
  },
  {
   "cell_type": "code",
   "execution_count": 75,
   "id": "36df3225",
   "metadata": {},
   "outputs": [
    {
     "data": {
      "image/png": "[encoded data removed]",
      "text/plain": [
       "<Figure size 360x360 with 1 Axes>"
      ]
     },
     "metadata": {
      "needs_background": "light"
     },
     "output_type": "display_data"
    }
   ],
   "source": [
    "sns.relplot(data=datos, x=\"altura_cm\", y=\"longitud_colmillo_mm\")\n",
    "plt.show()"
   ]
  },
  {
   "cell_type": "code",
   "execution_count": 76,
   "id": "609a53d6",
   "metadata": {},
   "outputs": [
    {
     "data": {
      "text/html": [
       "<div>\n",
       "<style scoped>\n",
       "    .dataframe tbody tr th:only-of-type {\n",
       "        vertical-align: middle;\n",
       "    }\n",
       "\n",
       "    .dataframe tbody tr th {\n",
       "        vertical-align: top;\n",
       "    }\n",
       "\n",
       "    .dataframe thead th {\n",
       "        text-align: right;\n",
       "    }\n",
       "</style>\n",
       "<table border=\"1\" class=\"dataframe\">\n",
       "  <thead>\n",
       "    <tr style=\"text-align: right;\">\n",
       "      <th></th>\n",
       "      <th>altura_cm</th>\n",
       "      <th>peso_kg</th>\n",
       "      <th>longitud_colmillo_mm</th>\n",
       "    </tr>\n",
       "  </thead>\n",
       "  <tbody>\n",
       "    <tr>\n",
       "      <th>altura_cm</th>\n",
       "      <td>1.000000</td>\n",
       "      <td>0.978971</td>\n",
       "      <td>0.017024</td>\n",
       "    </tr>\n",
       "    <tr>\n",
       "      <th>peso_kg</th>\n",
       "      <td>0.978971</td>\n",
       "      <td>1.000000</td>\n",
       "      <td>0.034506</td>\n",
       "    </tr>\n",
       "    <tr>\n",
       "      <th>longitud_colmillo_mm</th>\n",
       "      <td>0.017024</td>\n",
       "      <td>0.034506</td>\n",
       "      <td>1.000000</td>\n",
       "    </tr>\n",
       "  </tbody>\n",
       "</table>\n",
       "</div>"
      ],
      "text/plain": [
       "                      altura_cm   peso_kg  longitud_colmillo_mm\n",
       "altura_cm              1.000000  0.978971              0.017024\n",
       "peso_kg                0.978971  1.000000              0.034506\n",
       "longitud_colmillo_mm   0.017024  0.034506              1.000000"
      ]
     },
     "execution_count": 76,
     "metadata": {},
     "output_type": "execute_result"
    }
   ],
   "source": [
    "datos.corr()"
   ]
  },
  {
   "cell_type": "code",
   "execution_count": 84,
   "id": "80dadc57",
   "metadata": {},
   "outputs": [
    {
     "data": {
      "image/png": "[encoded data removed]",
      "text/plain": [
       "<Figure size 288x288 with 2 Axes>"
      ]
     },
     "metadata": {
      "needs_background": "light"
     },
     "output_type": "display_data"
    }
   ],
   "source": [
    "matriz = datos.corr()\n",
    "plt.matshow(matriz, cmap=\"bwr\", vmin=-1, vmax=1)\n",
    "plt.xticks(range(3), datos.columns, rotation=90)\n",
    "plt.yticks(range(3), datos.columns)\n",
    "for i in range(len(datos.columns)):\n",
    "    for j in range(len(datos.columns)):\n",
    "        plt.text(i, j, round(matriz.iloc[i, j],2))\n",
    "plt.colorbar()\n",
    "plt.show()"
   ]
  }
 ],
 "metadata": {
  "kernelspec": {
   "display_name": "Python 3 (ipykernel)",
   "language": "python",
   "name": "python3"
  },
  "language_info": {
   "codemirror_mode": {
    "name": "ipython",
    "version": 3
   },
   "file_extension": ".py",
   "mimetype": "text/x-python",
   "name": "python",
   "nbconvert_exporter": "python",
   "pygments_lexer": "ipython3",
   "version": "3.9.12"
  }
 },
 "nbformat": 4,
 "nbformat_minor": 5
}
