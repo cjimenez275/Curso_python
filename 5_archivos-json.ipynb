{
 "cells": [
  {
   "cell_type": "markdown",
   "id": "b452cceb",
   "metadata": {},
   "source": [
    "# Archivos Json\n",
    "En este notebook veremos como manipular achivos Json usando Python"
   ]
  },
  {
   "cell_type": "markdown",
   "id": "ae593a24",
   "metadata": {},
   "source": [
    "## 1. Exploremos los diccionarios y listas \n",
    "En python se pueden hacer arreglos mezclando listas y diccionarios siempre y cuando sean coherentes"
   ]
  },
  {
   "cell_type": "code",
   "execution_count": 1,
   "id": "12cf7ec2",
   "metadata": {},
   "outputs": [
    {
     "data": {
      "text/plain": [
       "[{'id': 3232},\n",
       " {'dff': [1, 2, 3, 4]},\n",
       " {2: [{2: 4, 'Hola': 3.5}, {1: 2}], 'hi': 'world'}]"
      ]
     },
     "execution_count": 1,
     "metadata": {},
     "output_type": "execute_result"
    }
   ],
   "source": [
    "di = [{'id':3232}, {'dff': [1, 2, 3, 4]}, {2: [{2: 4, \"Hola\":3.5}, {1:2}], 'hi':'world'}]\n",
    "di"
   ]
  },
  {
   "cell_type": "code",
   "execution_count": 2,
   "id": "cbf2ffcb",
   "metadata": {},
   "outputs": [
    {
     "data": {
      "text/plain": [
       "{'id': 3232}"
      ]
     },
     "execution_count": 2,
     "metadata": {},
     "output_type": "execute_result"
    }
   ],
   "source": [
    "di[0]"
   ]
  },
  {
   "cell_type": "code",
   "execution_count": 3,
   "id": "e8f5f582",
   "metadata": {},
   "outputs": [
    {
     "data": {
      "text/plain": [
       "{'dff': [1, 2, 3, 4]}"
      ]
     },
     "execution_count": 3,
     "metadata": {},
     "output_type": "execute_result"
    }
   ],
   "source": [
    "di[1]"
   ]
  },
  {
   "cell_type": "code",
   "execution_count": 4,
   "id": "6cc1adfc",
   "metadata": {},
   "outputs": [
    {
     "data": {
      "text/plain": [
       "[1, 2, 3, 4]"
      ]
     },
     "execution_count": 4,
     "metadata": {},
     "output_type": "execute_result"
    }
   ],
   "source": [
    "di[1]['dff']"
   ]
  },
  {
   "cell_type": "code",
   "execution_count": 24,
   "id": "3adb48f3",
   "metadata": {},
   "outputs": [
    {
     "data": {
      "text/plain": [
       "3"
      ]
     },
     "execution_count": 24,
     "metadata": {},
     "output_type": "execute_result"
    }
   ],
   "source": [
    "di[1]['dff'][2]"
   ]
  },
  {
   "cell_type": "code",
   "execution_count": 5,
   "id": "a6efece3",
   "metadata": {},
   "outputs": [
    {
     "data": {
      "text/plain": [
       "{2: [{2: 4, 'Hola': 3.5}, {1: 2}], 'hi': 'world'}"
      ]
     },
     "execution_count": 5,
     "metadata": {},
     "output_type": "execute_result"
    }
   ],
   "source": [
    "di[2]"
   ]
  },
  {
   "cell_type": "code",
   "execution_count": 6,
   "id": "58419d71",
   "metadata": {},
   "outputs": [
    {
     "data": {
      "text/plain": [
       "'world'"
      ]
     },
     "execution_count": 6,
     "metadata": {},
     "output_type": "execute_result"
    }
   ],
   "source": [
    "di[2]['hi']"
   ]
  },
  {
   "cell_type": "code",
   "execution_count": 7,
   "id": "782f1a33",
   "metadata": {},
   "outputs": [
    {
     "data": {
      "text/plain": [
       "[{2: 4, 'Hola': 3.5}, {1: 2}]"
      ]
     },
     "execution_count": 7,
     "metadata": {},
     "output_type": "execute_result"
    }
   ],
   "source": [
    "di[2][2]"
   ]
  },
  {
   "cell_type": "code",
   "execution_count": 8,
   "id": "3aef54b3",
   "metadata": {
    "scrolled": true
   },
   "outputs": [
    {
     "data": {
      "text/plain": [
       "{2: 4, 'Hola': 3.5}"
      ]
     },
     "execution_count": 8,
     "metadata": {},
     "output_type": "execute_result"
    }
   ],
   "source": [
    "di[2][2][0]"
   ]
  },
  {
   "cell_type": "code",
   "execution_count": 9,
   "id": "ebd81510",
   "metadata": {},
   "outputs": [
    {
     "data": {
      "text/plain": [
       "3.5"
      ]
     },
     "execution_count": 9,
     "metadata": {},
     "output_type": "execute_result"
    }
   ],
   "source": [
    "di[2][2][0]['Hola']"
   ]
  },
  {
   "cell_type": "code",
   "execution_count": null,
   "id": "f38a0f6c",
   "metadata": {},
   "outputs": [],
   "source": []
  },
  {
   "cell_type": "markdown",
   "id": "e6617bd5",
   "metadata": {},
   "source": [
    "## 2. Exploremos un Json\n",
    "En el siguiente enlace se pueden descargar Json generados aleatoriamente\n",
    "https://json-generator.com/    "
   ]
  },
  {
   "cell_type": "code",
   "execution_count": 10,
   "id": "ae88439c",
   "metadata": {},
   "outputs": [],
   "source": [
    "import json \n",
    "import seaborn as sns\n",
    "import matplotlib.pyplot as plt\n",
    "import pandas as pd\n",
    "with open(\"generated.json\", encoding=\"utf8\") as archivo:\n",
    "    datos = json.load(archivo)"
   ]
  },
  {
   "cell_type": "code",
   "execution_count": 11,
   "id": "fad60d6c",
   "metadata": {},
   "outputs": [],
   "source": [
    "datos;"
   ]
  },
  {
   "cell_type": "code",
   "execution_count": 12,
   "id": "d8302352",
   "metadata": {},
   "outputs": [
    {
     "data": {
      "text/plain": [
       "6"
      ]
     },
     "execution_count": 12,
     "metadata": {},
     "output_type": "execute_result"
    }
   ],
   "source": [
    "len(datos)"
   ]
  },
  {
   "cell_type": "code",
   "execution_count": 13,
   "id": "b4c89f40",
   "metadata": {},
   "outputs": [
    {
     "data": {
      "text/plain": [
       "37"
      ]
     },
     "execution_count": 13,
     "metadata": {},
     "output_type": "execute_result"
    }
   ],
   "source": [
    "datos[0]['age']"
   ]
  },
  {
   "cell_type": "code",
   "execution_count": 15,
   "id": "4396f59f",
   "metadata": {},
   "outputs": [
    {
     "data": {
      "text/plain": [
       "'Fannie Curtis'"
      ]
     },
     "execution_count": 15,
     "metadata": {},
     "output_type": "execute_result"
    }
   ],
   "source": [
    "edad = []\n",
    "ojos = []\n",
    "genero = []\n",
    "amigos = []\n",
    "longitud = []\n",
    "latitud = []\n",
    "for i in range(len(datos)):\n",
    "    edad.append(datos[i]['age'])\n",
    "    ojos.append(datos[i]['eyeColor'])\n",
    "    genero.append(datos[i]['gender'])\n",
    "    amigos.append(datos[i]['friends'])\n",
    "    latitud.append(datos[i]['latitude'])\n",
    "    longitud.append(datos[i]['longitude'])\n",
    "amigos[0][1]['name']"
   ]
  },
  {
   "cell_type": "code",
   "execution_count": 49,
   "id": "85f36c5a",
   "metadata": {},
   "outputs": [
    {
     "data": {
      "image/png": "[encoded data removed]",
      "text/plain": [
       "<Figure size 432x288 with 1 Axes>"
      ]
     },
     "metadata": {
      "needs_background": "light"
     },
     "output_type": "display_data"
    }
   ],
   "source": [
    "plt.hist(ojos)\n",
    "plt.show()"
   ]
  },
  {
   "cell_type": "code",
   "execution_count": 50,
   "id": "772bb2b7",
   "metadata": {},
   "outputs": [
    {
     "data": {
      "text/plain": [
       "['male', 'male', 'female', 'female', 'female', 'female']"
      ]
     },
     "execution_count": 50,
     "metadata": {},
     "output_type": "execute_result"
    }
   ],
   "source": [
    "genero"
   ]
  },
  {
   "cell_type": "code",
   "execution_count": 51,
   "id": "dc1636f8",
   "metadata": {},
   "outputs": [
    {
     "data": {
      "image/png": "[encoded data removed]",
      "text/plain": [
       "<Figure size 432x288 with 1 Axes>"
      ]
     },
     "metadata": {},
     "output_type": "display_data"
    }
   ],
   "source": [
    "datosi = [genero.count('male'), genero.count('female')]\n",
    "nombres = [\"Hombre\", \"Mujer\"]\n",
    "plt.pie(datosi, labels=nombres)\n",
    "plt.show()"
   ]
  },
  {
   "cell_type": "code",
   "execution_count": 28,
   "id": "90fdb3bc",
   "metadata": {},
   "outputs": [
    {
     "data": {
      "text/html": [
       "<div>\n",
       "<style scoped>\n",
       "    .dataframe tbody tr th:only-of-type {\n",
       "        vertical-align: middle;\n",
       "    }\n",
       "\n",
       "    .dataframe tbody tr th {\n",
       "        vertical-align: top;\n",
       "    }\n",
       "\n",
       "    .dataframe thead th {\n",
       "        text-align: right;\n",
       "    }\n",
       "</style>\n",
       "<table border=\"1\" class=\"dataframe\">\n",
       "  <thead>\n",
       "    <tr style=\"text-align: right;\">\n",
       "      <th></th>\n",
       "      <th>Genero</th>\n",
       "      <th>Longitud</th>\n",
       "      <th>Latitud</th>\n",
       "    </tr>\n",
       "  </thead>\n",
       "  <tbody>\n",
       "    <tr>\n",
       "      <th>0</th>\n",
       "      <td>male</td>\n",
       "      <td>26.865411</td>\n",
       "      <td>30.796361</td>\n",
       "    </tr>\n",
       "    <tr>\n",
       "      <th>1</th>\n",
       "      <td>male</td>\n",
       "      <td>-129.247138</td>\n",
       "      <td>-46.156687</td>\n",
       "    </tr>\n",
       "    <tr>\n",
       "      <th>2</th>\n",
       "      <td>female</td>\n",
       "      <td>19.794859</td>\n",
       "      <td>27.498830</td>\n",
       "    </tr>\n",
       "    <tr>\n",
       "      <th>3</th>\n",
       "      <td>female</td>\n",
       "      <td>15.594366</td>\n",
       "      <td>56.958704</td>\n",
       "    </tr>\n",
       "    <tr>\n",
       "      <th>4</th>\n",
       "      <td>female</td>\n",
       "      <td>85.663799</td>\n",
       "      <td>58.926228</td>\n",
       "    </tr>\n",
       "    <tr>\n",
       "      <th>5</th>\n",
       "      <td>female</td>\n",
       "      <td>-113.123128</td>\n",
       "      <td>-4.881320</td>\n",
       "    </tr>\n",
       "  </tbody>\n",
       "</table>\n",
       "</div>"
      ],
      "text/plain": [
       "   Genero    Longitud    Latitud\n",
       "0    male   26.865411  30.796361\n",
       "1    male -129.247138 -46.156687\n",
       "2  female   19.794859  27.498830\n",
       "3  female   15.594366  56.958704\n",
       "4  female   85.663799  58.926228\n",
       "5  female -113.123128  -4.881320"
      ]
     },
     "execution_count": 28,
     "metadata": {},
     "output_type": "execute_result"
    }
   ],
   "source": [
    "datos = pd.DataFrame()\n",
    "datos[\"Genero\"] = genero\n",
    "datos[\"Longitud\"] = longitud\n",
    "datos[\"Latitud\"] = latitud\n",
    "datos"
   ]
  },
  {
   "cell_type": "code",
   "execution_count": 29,
   "id": "9c6d5f64",
   "metadata": {},
   "outputs": [],
   "source": [
    "#datos.to_csv('Datos_Placas.csv', index=False)\n",
    "datos.to_excel('Datos_json.xlsx', index=False)"
   ]
  },
  {
   "cell_type": "code",
   "execution_count": null,
   "id": "82175023",
   "metadata": {},
   "outputs": [],
   "source": []
  }
 ],
 "metadata": {
  "kernelspec": {
   "display_name": "Python 3 (ipykernel)",
   "language": "python",
   "name": "python3"
  },
  "language_info": {
   "codemirror_mode": {
    "name": "ipython",
    "version": 3
   },
   "file_extension": ".py",
   "mimetype": "text/x-python",
   "name": "python",
   "nbconvert_exporter": "python",
   "pygments_lexer": "ipython3",
   "version": "3.9.12"
  }
 },
 "nbformat": 4,
 "nbformat_minor": 5
}
