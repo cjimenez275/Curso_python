{
 "cells": [
  {
   "cell_type": "markdown",
   "id": "6b8afcc9",
   "metadata": {},
   "source": [
    "# Derrota al guerrero\n",
    "<img src=\"guerrero.png\">\n",
    "En este juego debes repartir 30 puntos entre fuerza, energía y defensa.\n",
    "<ol>\n",
    "<li> La diferencia entre la energia y la defensa del oponente es igual al daño que se puede causar. </li>\n",
    "<li> Con cada ataque se pierden dos puntos de energia.</li>\n",
    "<li> Cuando la vida llega a cero el personaje muere. </li>\n",
    "<li> Si la energía llega a cero el personaje se rinde.</li>\n",
    "</ol>"
   ]
  },
  {
   "cell_type": "code",
   "execution_count": 120,
   "id": "a1d7bb8f",
   "metadata": {},
   "outputs": [],
   "source": [
    "import random\n",
    "class Personaje:\n",
    "    \n",
    "    def __init__(self, nombre, fuerza, energia, defensa, vida):\n",
    "        self.nombre = nombre\n",
    "        self.fuerza = fuerza\n",
    "        self.energia = energia\n",
    "        self.defensa = defensa\n",
    "        self.vida = vida\n",
    "        \n",
    "    def atributos(self):\n",
    "        print(self.nombre)\n",
    "        print(\"-Fuerza \", self.fuerza)\n",
    "        print(\"-Energía \", self.energia)\n",
    "        print(\"-Defensa \", self.defensa)\n",
    "        print(\"-Vida \", self.vida)\n",
    "        \n",
    "    def subir_nivel(self, fuerza, defensa, vida):\n",
    "        self.fuerza = self.fuerza + fuerza\n",
    "        self.defensa = self.defensa + defensa\n",
    "        self.vida = self.vida + vida\n",
    "        \n",
    "  \n",
    "    def ataque(self, enemigo):\n",
    "        daño = random.randint(-1, 3)*(self.fuerza - enemigo.defensa)\n",
    "        self.energia = self.energia - 2\n",
    "        if daño > 0:\n",
    "            enemigo.vida = enemigo.vida - daño\n",
    "            enemigo.defensa = enemigo.defensa - 1\n",
    "            print(self.nombre, \"hizo un daño = \", daño)\n",
    "        else: \n",
    "            self.vida = self.vida + daño\n",
    "            enemigo.energia = enemigo.energia - 2\n",
    "            self.defensa = self.defensa - 1\n",
    "            print(enemigo.nombre, \"hizo un daño = \", -daño)\n"
   ]
  },
  {
   "cell_type": "code",
   "execution_count": 121,
   "id": "2163e210",
   "metadata": {},
   "outputs": [
    {
     "name": "stdout",
     "output_type": "stream",
     "text": [
      "Carlos\n",
      "-Fuerza  12\n",
      "-Energía  8\n",
      "-Defensa  10\n",
      "-Vida  20\n",
      "Guerrero\n",
      "-Fuerza  14\n",
      "-Energía  8\n",
      "-Defensa  8\n",
      "-Vida  20\n"
     ]
    }
   ],
   "source": [
    "mi_personaje = Personaje(\"Carlos\", 12, 8, 10, 20)\n",
    "guerrero = Personaje(\"Guerrero\", 14, 8, 8, 20)\n",
    "mi_personaje.atributos()\n",
    "guerrero.atributos()"
   ]
  },
  {
   "cell_type": "code",
   "execution_count": 129,
   "id": "2b700a4e",
   "metadata": {},
   "outputs": [
    {
     "name": "stdout",
     "output_type": "stream",
     "text": [
      "Dado =  2\n",
      "El guerrero te ha atacado\n",
      "Carlos hizo un daño =  0\n",
      "Carlos\n",
      "-Fuerza  18\n",
      "-Energía  0\n",
      "-Defensa  14\n",
      "-Vida  23\n",
      "Guerrero\n",
      "-Fuerza  14\n",
      "-Energía  0\n",
      "-Defensa  5\n",
      "-Vida  11\n",
      "Te has rendido\n",
      "El guerrero se ha rendido\n"
     ]
    }
   ],
   "source": [
    "dado = random.randint(1, 3)\n",
    "print(\"Dado = \", dado)\n",
    "if dado == 1:\n",
    "    mi_personaje.subir_nivel(2, 2, 2)\n",
    "    print(\"has subido de nivel\")\n",
    "elif dado == 2:\n",
    "    print(\"El guerrero te ha atacado\")\n",
    "    guerrero.ataque(mi_personaje)\n",
    "else:\n",
    "    print(\"Has atacado al guerrero\")\n",
    "    mi_personaje.ataque(guerrero)\n",
    "    \n",
    "mi_personaje.atributos()\n",
    "guerrero.atributos()\n",
    "\n",
    "if mi_personaje.vida <= 0:\n",
    "    print(\"Has muerto\")\n",
    "if guerrero.vida <= 0:\n",
    "    print(\"!Has derrotado al guerrero¡\")\n",
    "if mi_personaje.energia <= 0:\n",
    "    print(\"Te has rendido\")\n",
    "if guerrero.energia <= 0:\n",
    "    print(\"El guerrero se ha rendido\")"
   ]
  },
  {
   "cell_type": "code",
   "execution_count": null,
   "id": "946e823c",
   "metadata": {},
   "outputs": [],
   "source": []
  }
 ],
 "metadata": {
  "kernelspec": {
   "display_name": "Python 3 (ipykernel)",
   "language": "python",
   "name": "python3"
  },
  "language_info": {
   "codemirror_mode": {
    "name": "ipython",
    "version": 3
   },
   "file_extension": ".py",
   "mimetype": "text/x-python",
   "name": "python",
   "nbconvert_exporter": "python",
   "pygments_lexer": "ipython3",
   "version": "3.9.12"
  }
 },
 "nbformat": 4,
 "nbformat_minor": 5
}
