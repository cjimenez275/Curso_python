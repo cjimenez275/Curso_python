{
  "nbformat": 4,
  "nbformat_minor": 0,
  "metadata": {
    "colab": {
      "provenance": []
    },
    "kernelspec": {
      "name": "python3",
      "display_name": "Python 3"
    },
    "language_info": {
      "name": "python"
    }
  },
  "cells": [
    {
      "cell_type": "code",
      "execution_count": null,
      "metadata": {
        "id": "oM_KcNEWw4nu"
      },
      "outputs": [],
      "source": [
        "import pandas as pd\n",
        "from sklearn.ensemble import RandomForestClassifier\n",
        "from sklearn.model_selection import cross_val_score\n",
        "\n",
        "personas = pd.read_csv(\"salario.csv\")\n",
        "\n",
        "bosque = RandomForestClassifier()\n",
        "\n",
        "bosque.fit(personas[[\"edad\", \"estudio\"]].values,\n",
        "          personas[\"ingreso\"].values)\n",
        "\n",
        "print(bosque.score(personas[[\"edad\", \"estudio\"]].values,\n",
        "                  personas[\"ingreso\"].values))\n",
        "\n",
        "print(cross_val_score(bosque,\n",
        "                     personas[[\"edad\", \"estudio\"]].values,\n",
        "                     personas[\"ingreso\"].values,\n",
        "                     cv=5).mean())"
      ]
    }
  ]
}